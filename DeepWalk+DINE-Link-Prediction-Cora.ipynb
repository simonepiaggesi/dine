{
 "cells": [
  {
   "cell_type": "code",
   "execution_count": 1,
   "id": "81108461",
   "metadata": {
    "tags": []
   },
   "outputs": [],
   "source": [
    "import numpy as np\n",
    "import matplotlib.pyplot as plt"
   ]
  },
  {
   "cell_type": "code",
   "execution_count": 2,
   "id": "2772bd84",
   "metadata": {},
   "outputs": [],
   "source": [
    "import os, gzip\n",
    "os.environ['MKL_THREADING_LAYER'] = 'GNU'"
   ]
  },
  {
   "cell_type": "code",
   "execution_count": 3,
   "id": "b7c62585",
   "metadata": {},
   "outputs": [],
   "source": [
    "DATASET = 'cora'\n",
    "D_in = 256\n",
    "D_out = 128"
   ]
  },
  {
   "cell_type": "code",
   "execution_count": null,
   "id": "b85b474a",
   "metadata": {
    "scrolled": true
   },
   "outputs": [],
   "source": [
    "!python3 train_test_links_split.py"
   ]
  },
  {
   "cell_type": "code",
   "execution_count": 5,
   "id": "fa6dfa98",
   "metadata": {},
   "outputs": [
    {
     "name": "stdout",
     "output_type": "stream",
     "text": [
      "Computing transition probabilities: 100%|█| 2485/2485 [00:00<00:00, 7708.54it/s]\n",
      "Generating walks (CPU: 1): 100%|████████████████| 20/20 [00:11<00:00,  1.74it/s]\n",
      "Training\n",
      "Dumping the DeepWalk embeddings\n"
     ]
    }
   ],
   "source": [
    "!python3 deepwalk.py --emb-dim 128 --input predict/cora.edgelist.gz --output predict/cora_DeepWalk_128dims.txt.gz"
   ]
  },
  {
   "cell_type": "code",
   "execution_count": 6,
   "id": "b56d07ce",
   "metadata": {},
   "outputs": [
    {
     "name": "stdout",
     "output_type": "stream",
     "text": [
      "Computing transition probabilities: 100%|█| 2485/2485 [00:00<00:00, 7739.17it/s]\n",
      "Generating walks (CPU: 1): 100%|████████████████| 20/20 [00:11<00:00,  1.74it/s]\n",
      "Training\n",
      "Dumping the DeepWalk embeddings\n"
     ]
    }
   ],
   "source": [
    "!python3 deepwalk.py --emb-dim 256 --input predict/cora.edgelist.gz --output predict/cora_DeepWalk_256dims.txt.gz"
   ]
  },
  {
   "cell_type": "code",
   "execution_count": 7,
   "id": "0d13f360",
   "metadata": {
    "scrolled": false
   },
   "outputs": [
    {
     "name": "stdout",
     "output_type": "stream",
     "text": [
      "Loading data from predict/cora_DeepWalk_256dims.txt.gz\n",
      "Loaded data. #shape = (2485, 256)\n",
      " #nodes = 2485 \n",
      "Building model \n",
      "After epoch 0, Rec. Loss = 0.15768, Size Loss = 0.00110, Orth. Loss = 0.00011, and Total = 0.15890\n",
      "After epoch 500, Rec. Loss = 0.02570, Size Loss = 0.94023, Orth. Loss = 0.00010, and Total = 0.96602\n",
      "After epoch 1000, Rec. Loss = 0.02038, Size Loss = 0.90074, Orth. Loss = 0.00009, and Total = 0.92121\n",
      "After epoch 1500, Rec. Loss = 0.01830, Size Loss = 0.88175, Orth. Loss = 0.00009, and Total = 0.90014\n",
      "After epoch 2000, Rec. Loss = 0.01602, Size Loss = 0.86313, Orth. Loss = 0.00009, and Total = 0.87924\n",
      "Dumping the DINE embeddings\n",
      "shape (2485, 128)\n"
     ]
    }
   ],
   "source": [
    "!python3 dine.py --emb-dim 128 --input predict/cora_DeepWalk_256dims.txt.gz --output predict/cora_DeepWalk_256dims.Dine_128dims.txt.gz"
   ]
  },
  {
   "cell_type": "code",
   "execution_count": 25,
   "id": "29997ac6",
   "metadata": {
    "scrolled": true
   },
   "outputs": [],
   "source": [
    "import utils\n",
    "\n",
    "# emb_dict = utils.load_embs(f'predict/{DATASET}_DeepWalk_{D_out}dims.txt.gz')\n",
    "emb_dict = utils.load_embs(f'predict/{DATASET}_DeepWalk_{D_in}dims.Dine_{D_out}dims.txt.gz')"
   ]
  },
  {
   "cell_type": "code",
   "execution_count": 26,
   "id": "34081753",
   "metadata": {},
   "outputs": [],
   "source": [
    "examples_test = np.load(f'predict/{DATASET}.test.npz', allow_pickle=True)['arr_0']\n",
    "edges_test = examples_test[:,:2].astype(str)\n",
    "labels_test = examples_test[:,-1].astype(int)"
   ]
  },
  {
   "cell_type": "code",
   "execution_count": 27,
   "id": "3556da0f",
   "metadata": {},
   "outputs": [
    {
     "name": "stdout",
     "output_type": "stream",
     "text": [
      "0.901923948194785\n"
     ]
    }
   ],
   "source": [
    "from sklearn.metrics import roc_auc_score\n",
    "\n",
    "scores_test = [np.sum(emb_dict[i]*emb_dict[j]) for i,j in edges_test]\n",
    "print(roc_auc_score(labels_test, scores_test))"
   ]
  },
  {
   "cell_type": "code",
   "execution_count": null,
   "id": "0350be1b",
   "metadata": {},
   "outputs": [],
   "source": []
  }
 ],
 "metadata": {
  "kernelspec": {
   "display_name": "Python 3",
   "language": "python",
   "name": "python3"
  },
  "language_info": {
   "codemirror_mode": {
    "name": "ipython",
    "version": 3
   },
   "file_extension": ".py",
   "mimetype": "text/x-python",
   "name": "python",
   "nbconvert_exporter": "python",
   "pygments_lexer": "ipython3",
   "version": "3.6.13"
  }
 },
 "nbformat": 4,
 "nbformat_minor": 5
}
